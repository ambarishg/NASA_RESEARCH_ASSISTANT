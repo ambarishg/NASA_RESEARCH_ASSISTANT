{
 "cells": [
  {
   "cell_type": "code",
   "execution_count": 1,
   "metadata": {},
   "outputs": [
    {
     "name": "stderr",
     "output_type": "stream",
     "text": [
      "/home/azureuser/Ambarish/env/lib/python3.8/site-packages/tqdm/auto.py:21: TqdmWarning: IProgress not found. Please update jupyter and ipywidgets. See https://ipywidgets.readthedocs.io/en/stable/user_install.html\n",
      "  from .autonotebook import tqdm as notebook_tqdm\n"
     ]
    }
   ],
   "source": [
    "from config import *\n",
    "from qdrant_helper import *\n",
    "from model_helper import *"
   ]
  },
  {
   "cell_type": "code",
   "execution_count": 2,
   "metadata": {},
   "outputs": [],
   "source": [
    "CATEGORY = \"\""
   ]
  },
  {
   "cell_type": "code",
   "execution_count": 3,
   "metadata": {},
   "outputs": [],
   "source": [
    "user_input = input(\"Enter your query: \")"
   ]
  },
  {
   "cell_type": "code",
   "execution_count": 4,
   "metadata": {},
   "outputs": [],
   "source": [
    "model = load_model()\n",
    "xq = model.encode(user_input,convert_to_tensor=True)\n",
    "if CATEGORY == '':\n",
    "    query_filter = None\n",
    "else:\n",
    "    query_filter=qmodels.Filter(\n",
    "        must= [\n",
    "            FieldCondition(\n",
    "                key=\"Category\",\n",
    "                match=models.MatchValue(value=CATEGORY),\n",
    "            )\n",
    "        ],\n",
    "    )\n",
    "search_result = client.search(collection_name=DOCUMENTS_COLLECTION_NAME,\n",
    "                                query_vector=xq.tolist(), \n",
    "                                query_filter=query_filter,\n",
    "                                limit=3)\n",
    "contexts =\"\"\n",
    "for result in search_result:\n",
    "    contexts +=  result.payload['token']+\"\\n---\\n\""
   ]
  },
  {
   "cell_type": "code",
   "execution_count": 5,
   "metadata": {},
   "outputs": [
    {
     "data": {
      "text/plain": [
       "') algorithms for Gleason grading have been developed and validated using expert-provided Gleason scores.9–12 However, an evaluation of the prognostic value of these algorithms and a direct comparison to the prognostic value of Gleason grading provided by pathologists has not been conducted\\n---\\n Furthermore, qualitative analysis of algorithm and pathologist discordances suggests several ways in which the algorithmic grading and pathologist grading may be complementary, including consistent grading of regions by the AI which may be variably overgraded by pathologists, or identification of small, high grade regions which may otherwise be missed by pathologists.     Discussion In this study, we have validated the ability of a Gleason grading A.I\\n---\\n prepared the manuscript with input from all authors. E.W. and K.N. contributed equally as co-first authors; Y.L. and C.H.M. contributed equally as co-last authors.  \\n Code availability The deep learning framework (TensorFlow) used in this study is available at https://www.tensorflow.org. The deep learning architecture for the Gleason grading model is detailed in prior work10. All survival analyses were conducted using Lifelines42, an open source Python library. References 1. Veloso, S. G\\n---\\n'"
      ]
     },
     "execution_count": 5,
     "metadata": {},
     "output_type": "execute_result"
    }
   ],
   "source": [
    "contexts"
   ]
  },
  {
   "cell_type": "code",
   "execution_count": null,
   "metadata": {},
   "outputs": [],
   "source": []
  }
 ],
 "metadata": {
  "kernelspec": {
   "display_name": "env",
   "language": "python",
   "name": "python3"
  },
  "language_info": {
   "codemirror_mode": {
    "name": "ipython",
    "version": 3
   },
   "file_extension": ".py",
   "mimetype": "text/x-python",
   "name": "python",
   "nbconvert_exporter": "python",
   "pygments_lexer": "ipython3",
   "version": "3.8.10"
  },
  "orig_nbformat": 4
 },
 "nbformat": 4,
 "nbformat_minor": 2
}
