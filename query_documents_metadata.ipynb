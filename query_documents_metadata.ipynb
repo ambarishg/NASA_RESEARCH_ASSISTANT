{
 "cells": [
  {
   "cell_type": "code",
   "execution_count": null,
   "metadata": {},
   "outputs": [],
   "source": [
    "from config import *\n",
    "from qdrant_helper import *\n",
    "from model_helper import *\n",
    "\n",
    "import qdrant_client as qc\n",
    "import qdrant_client.http.models as qmodels\n",
    "from qdrant_client.http.models import *"
   ]
  },
  {
   "cell_type": "code",
   "execution_count": null,
   "metadata": {},
   "outputs": [],
   "source": [
    "CATEGORY = \"\""
   ]
  },
  {
   "cell_type": "code",
   "execution_count": null,
   "metadata": {},
   "outputs": [],
   "source": [
    "user_input = \"LLM\"\n",
    "year = 2022\n",
    "author=\"Volker Tresp\""
   ]
  },
  {
   "cell_type": "code",
   "execution_count": null,
   "metadata": {},
   "outputs": [],
   "source": [
    "model = load_model()\n",
    "xq = model.encode(user_input,convert_to_tensor=True)\n",
    "if year == '':\n",
    "        query_filter = None\n",
    "        print(\"No year\")\n",
    "else:\n",
    "    query_filter=qmodels.Filter(\n",
    "        must= [\n",
    "            FieldCondition(\n",
    "                key=\"year\",\n",
    "                match=models.MatchValue(value=year),\n",
    "            )\n",
    "        ],\n",
    "    )\n",
    "    print(f\"Year : {year}\")\n",
    "    print(query_filter)\n",
    "\n",
    "if author == '':\n",
    "        query_filter = None\n",
    "        print(\"No author\")\n",
    "else:\n",
    "    query_filter=qmodels.Filter(\n",
    "        must= [\n",
    "                FieldCondition(\n",
    "                key=\"authors\",\n",
    "                match=models.MatchText(text=author),\n",
    "            )\n",
    "        ],\n",
    "    )\n",
    "    print(f\"Author : {author}\")\n",
    "\n",
    "search_result = client.search(collection_name=COLLECTION_NAME,\n",
    "                                query_vector=xq.tolist(), \n",
    "                                query_filter=query_filter,\n",
    "                                limit=20)\n",
    "contexts =\"\"\n",
    "for result in search_result:\n",
    "    print(f\"Document title: {result.payload['title']}\")\n",
    "    print(f\"Document Year: {result.payload['year']}\")\n",
    "    print(f\"Document Year: {result.payload['authors']}\")\n",
    "    print(\"------------------------------------------------------\")\n"
   ]
  },
  {
   "cell_type": "code",
   "execution_count": null,
   "metadata": {},
   "outputs": [],
   "source": []
  }
 ],
 "metadata": {
  "kernelspec": {
   "display_name": "env",
   "language": "python",
   "name": "python3"
  },
  "language_info": {
   "codemirror_mode": {
    "name": "ipython",
    "version": 3
   },
   "file_extension": ".py",
   "mimetype": "text/x-python",
   "name": "python",
   "nbconvert_exporter": "python",
   "pygments_lexer": "ipython3",
   "version": "3.8.10"
  },
  "orig_nbformat": 4
 },
 "nbformat": 4,
 "nbformat_minor": 2
}
